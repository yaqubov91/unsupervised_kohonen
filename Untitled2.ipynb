{
 "cells": [
  {
   "cell_type": "markdown",
   "metadata": {},
   "source": [
    "# Kohonen miniproject solution"
   ]
  },
  {
   "cell_type": "code",
   "execution_count": 1,
   "metadata": {
    "collapsed": true
   },
   "outputs": [],
   "source": [
    "import numpy as np\n",
    "%matplotlib inline\n",
    "import matplotlib.pyplot as plt\n",
    "import math\n",
    "from operator import sub,add\n",
    "import time"
   ]
  },
  {
   "cell_type": "code",
   "execution_count": 2,
   "metadata": {
    "collapsed": true
   },
   "outputs": [],
   "source": [
    "def name2digits(name):    \n",
    "    name = name.lower()\n",
    "    if len(name)>25:\n",
    "        name = name[0:25]\n",
    "    primenumbers = [2,3,5,7,11,13,17,19,23,29,31,37,41,43,47,53,59,61,67,71,73,79,83,89,97]\n",
    "    n = len(name)\n",
    "    s = 0.0\n",
    "    for i in range(n):\n",
    "        s += primenumbers[i]*ord(name[i])*2.0**(i+1)\n",
    "    import scipy.io.matlab\n",
    "    Data = scipy.io.matlab.loadmat('miniproject1_data/hash.mat',struct_as_record=True)\n",
    "    x = Data['x']\n",
    "    t = np.mod(s,x.shape[0])\n",
    "    return np.sort(x[t,:])"
   ]
  },
  {
   "cell_type": "code",
   "execution_count": 3,
   "metadata": {
    "collapsed": true
   },
   "outputs": [],
   "source": [
    "# Return the gauss function N(x), with mean p[0] and std p[1]. Normalized such that N(x=p[0]) = 1.\n",
    "def gauss(x,p):\n",
    "    return np.exp((-(x - p[0])**2) / (2 * p[1]**2))"
   ]
  },
  {
   "cell_type": "code",
   "execution_count": 4,
   "metadata": {
    "collapsed": true
   },
   "outputs": [],
   "source": [
    "# Performs one step of the sequential learning for a self-organized map (SOM).\n",
    "# Returns updated centers\n",
    "def som_step(centers,data,neighbor,eta,sigma):\n",
    "    \"\"\"\n",
    "      centers = som_step(centers,data,neighbor,eta,sigma)\n",
    "    \n",
    "      Input and output arguments: \n",
    "       centers  (matrix) cluster centres. Have to be in format:\n",
    "                         center X dimension\n",
    "       data     (vector) the actually presented datapoint to be presented in\n",
    "                         this timestep\n",
    "       neighbor (matrix) the coordinates of the centers in the desired\n",
    "                         neighborhood.\n",
    "       eta      (scalar) a learning rate\n",
    "       sigma    (scalar) the width of the gaussian neighborhood function.\n",
    "                         Effectively describing the width of the neighborhood\n",
    "    \"\"\"\n",
    "    size_k = int(np.sqrt(len(centers)))\n",
    "    #find the best matching unit via the minimal distance to the datapoint\n",
    "    b = np.argmin(np.sum((centers - np.resize(data, (size_k**2, data.size)))**2,1))\n",
    "    # find coordinates of the winner\n",
    "    a,b = np.nonzero(neighbor == b)\n",
    "    # update all units\n",
    "    for j in range(size_k**2):\n",
    "        # find coordinates of this unit\n",
    "        a1,b1 = np.nonzero(neighbor==j)\n",
    "        # calculate the distance and discounting factor\n",
    "        disc=gauss(np.sqrt((a-a1)**2+(b-b1)**2),[0, sigma])\n",
    "        # update weights        \n",
    "        centers[j,:] += disc * eta * (data - centers[j,:])\n",
    "    return centers"
   ]
  },
  {
   "cell_type": "code",
   "execution_count": 44,
   "metadata": {
    "collapsed": true
   },
   "outputs": [],
   "source": [
    "# Deciding if algorithm is converged based on the changes on center\n",
    "def converges(centers_before,centers_after):\n",
    "    #ll=sum(sum(list(map(sub,centers_before,centers_after))));\n",
    "    #print(ll)\n",
    "    ll=math.sqrt(sum(sum(np.abs(list(map(sub,centers_before,centers_after))))))\n",
    "    #print(ll)\n",
    "    if(ll<0.00001):#change 0.1 to different values\n",
    "        return True;\n",
    "    else:\n",
    "        return False;"
   ]
  },
  {
   "cell_type": "code",
   "execution_count": 97,
   "metadata": {
    "collapsed": false
   },
   "outputs": [],
   "source": [
    "\n",
    "#Returns new centers which represent the values of neurons\n",
    "def kohonen(my_name,size_kohonen,sigma,eta,tmax):\n",
    "    \"\"\"Example for using create_data, plot_data and som_step.\n",
    "    \"\"\"\n",
    "    dim = 28*28\n",
    "    data_range = 255.0\n",
    "    # load in data and labels    \n",
    "    # select 4 digits    \n",
    "    name = my_name\n",
    "    targetdigits = name2digits(name) # assign the four digits that should be used\n",
    "    print(targetdigits) # output the digits that were selected\n",
    "    # this selects all data vectors that corresponds to one of the four digits\n",
    "    data = np.array(np.loadtxt('miniproject1_data/data.txt'))\n",
    "    labels = np.loadtxt('miniproject1_data/labels.txt')\n",
    "    data = data[np.logical_or.reduce([labels==x for x in targetdigits]),:]\n",
    "    dy, dx = data.shape\n",
    "    #set the size of the Kohonen map. In this case it will be 6 X 6\n",
    "    size_k = size_kohonen\n",
    "    #set the width of the neighborhood via the width of the gaussian that\n",
    "    #describes it\n",
    "    #sigma = 3.0\n",
    "    #initialise the centers randomly\n",
    "    centers = np.random.rand(size_k**2, dim) * data_range\n",
    "    #build a neighborhood matrix\n",
    "    neighbor = np.arange(size_k**2).reshape((size_k, size_k))\n",
    "    #set the learning rate\n",
    "    #eta = 0.3 # HERE YOU HAVE TO SET YOUR OWN LEARNING RATE\n",
    "    #set the maximal iteration count\n",
    "    #tmax = 5000 # this might or might not work; use your own convergence criterion\n",
    "    #set the random order in which the datapoints should be presented\n",
    "    i_random = np.arange(tmax) % dy\n",
    "    #np.random.shuffle(i_random)\n",
    "    #for t, i in enumerate(i_random):\n",
    "    # check the point where centers does not differ\n",
    "#     for ii in range(1,1000):\n",
    "#         it=0\n",
    "#         centers_old=centers\n",
    "#         centers_new=som_step(centers_old, data[it,:],neighbor,eta,sigma)\n",
    "#         while((converges(centers_old,centers_new)!=True) and it<2000):\n",
    "#             centers_new=som_step(centers_old, data[it,:],neighbor,eta,sigma)\n",
    "#             it+=1;\n",
    "\n",
    "\n",
    "    flag=1#for just first calculation of som_step\n",
    "    centers_old=centers\n",
    "    centers_new=som_step(centers_old, data[0,:],neighbor,eta,sigma)\n",
    "    for ii in range(1,1000):\n",
    "        if(flag==1):\n",
    "            it=1\n",
    "            while(it<2000):\n",
    "                centers_old=centers_new\n",
    "                centers_new=som_step(centers_old, data[it,:],neighbor,eta,sigma)\n",
    "                it+=1;\n",
    "            flag=0\n",
    "        else:\n",
    "            it=0\n",
    "            if((converges(centers_old,centers_new)==True)):\n",
    "                while(it<2000):\n",
    "                    centers_old=centers_new\n",
    "                    centers_new=som_step(centers_old, data[it,:],neighbor,eta,sigma)\n",
    "                    it+=1;\n",
    "            else:\n",
    "                break   \n",
    "    print('Done')\n",
    "    # for visualization, you can use this:\n",
    "#     for i in range(size_k**2):\n",
    "#         plb.subplot(size_k,size_k,i+1)\n",
    "#         plb.imshow(np.reshape(centers[i,:], [28, 28]),interpolation='bilinear')\n",
    "#         plb.axis('off')\n",
    "        \n",
    "    plt.figure(1)\n",
    "    plt.axis('off')\n",
    "    for i in range(0,size_k**2):\n",
    "        plt.subplot(size_k,size_k,i+1)\n",
    "        plt.imshow(np.reshape(centers_new[i],(28,28)))\n",
    "        plt.axis('off')\n",
    "    return centers_new"
   ]
  },
  {
   "cell_type": "code",
   "execution_count": 98,
   "metadata": {
    "collapsed": true
   },
   "outputs": [],
   "source": [
    "# Convergence criteria\n",
    "# Find means of the all data\n",
    "# If data is very close to mean"
   ]
  },
  {
   "cell_type": "code",
   "execution_count": null,
   "metadata": {
    "collapsed": false,
    "scrolled": true
   },
   "outputs": [
    {
     "name": "stderr",
     "output_type": "stream",
     "text": [
      "/Users/user/Desktop/epfl_semester5/data_analyis/anaconda_folder/anaconda/lib/python3.5/site-packages/ipykernel/__main__.py:14: VisibleDeprecationWarning: using a non-integer number instead of an integer will result in an error in the future\n"
     ]
    },
    {
     "name": "stdout",
     "output_type": "stream",
     "text": [
      "[0 1 5 7]\n"
     ]
    }
   ],
   "source": [
    "my_name='Araz Yaqubov'\n",
    "size_k=13\n",
    "sigma=3\n",
    "learning_rate=0.5\n",
    "start=time.time()\n",
    "#return value is the converged centers of clusters\n",
    "results=kohonen(my_name,size_k,sigma,learning_rate,2000)\n",
    "end=time.time()\n",
    "time_took=end-start\n",
    "print(\"Time it took to run is %d\",time_took)"
   ]
  },
  {
   "cell_type": "code",
   "execution_count": 9,
   "metadata": {
    "collapsed": true
   },
   "outputs": [],
   "source": [
    "# How you decide the algorithm has converged:\n",
    "# It is decided by if centers does not change\n",
    "# break from the loop when its converged and print the number of elements"
   ]
  },
  {
   "cell_type": "code",
   "execution_count": 64,
   "metadata": {
    "collapsed": false
   },
   "outputs": [
    {
     "name": "stderr",
     "output_type": "stream",
     "text": [
      "/Users/user/Desktop/epfl_semester5/data_analyis/anaconda_folder/anaconda/lib/python3.5/site-packages/ipykernel/__main__.py:14: VisibleDeprecationWarning: using a non-integer number instead of an integer will result in an error in the future\n"
     ]
    }
   ],
   "source": [
    "targetdigits=name2digits('Araz Yaqubov')\n",
    "data = np.array(np.loadtxt('miniproject1_data/data.txt'))\n",
    "labels = np.loadtxt('miniproject1_data/labels.txt')\n",
    "target_data = data[np.logical_or.reduce([labels==x for x in targetdigits]),:]\n",
    "target_labels = labels[np.logical_or.reduce([labels==x for x in targetdigits])]\n",
    "# categorize the target data\n",
    "target_category=[str(int(x)) for x in target_labels]"
   ]
  },
  {
   "cell_type": "code",
   "execution_count": 65,
   "metadata": {
    "collapsed": false
   },
   "outputs": [],
   "source": [
    "X=target_data\n",
    "y=target_category"
   ]
  },
  {
   "cell_type": "code",
   "execution_count": 66,
   "metadata": {
    "collapsed": false
   },
   "outputs": [],
   "source": [
    "# Even data is already shuffled we use python built in function \n",
    "# but its better since to split data into random train and test subsets\n",
    "from sklearn.model_selection import train_test_split\n",
    "x_train, x_test, y_train, y_test = train_test_split(X, y, test_size=0.25)"
   ]
  },
  {
   "cell_type": "code",
   "execution_count": 67,
   "metadata": {
    "collapsed": false
   },
   "outputs": [],
   "source": [
    "#Following model is used to automatically assign labels \n",
    "from sklearn.neighbors import KNeighborsClassifier\n",
    "knn = KNeighborsClassifier()\n",
    "knn.fit(x_train, y_train) \n",
    "\n",
    "predictions=knn.predict(x_test)"
   ]
  },
  {
   "cell_type": "code",
   "execution_count": 95,
   "metadata": {
    "collapsed": true
   },
   "outputs": [],
   "source": [
    "predictions=knn.predict(results)\n",
    "predictions=np.reshape(predictions,(size_k,size_k))\n",
    "predictions\n",
    "#Automatically assign label\n",
    "predictions=knn.predict(results)"
   ]
  },
  {
   "cell_type": "code",
   "execution_count": 96,
   "metadata": {
    "collapsed": false
   },
   "outputs": [
    {
     "name": "stdout",
     "output_type": "stream",
     "text": [
      "[['7' '7' '7' '7' '1' '1' '1' '1' '1' '1' '1' '1' '1']\n",
      " ['7' '7' '7' '7' '1' '1' '1' '1' '1' '1' '1' '1' '1']\n",
      " ['5' '7' '7' '1' '1' '1' '1' '1' '1' '1' '1' '1' '1']\n",
      " ['0' '5' '7' '1' '1' '1' '1' '1' '1' '1' '1' '1' '1']\n",
      " ['0' '5' '5' '5' '1' '1' '7' '7' '7' '7' '7' '1' '1']\n",
      " ['0' '5' '5' '5' '7' '7' '7' '7' '7' '7' '7' '7' '1']\n",
      " ['0' '5' '5' '7' '7' '7' '7' '7' '7' '7' '7' '7' '1']\n",
      " ['5' '5' '5' '7' '7' '7' '7' '7' '7' '7' '7' '7' '1']\n",
      " ['5' '5' '5' '7' '7' '7' '7' '7' '7' '7' '7' '7' '1']\n",
      " ['5' '0' '0' '0' '0' '0' '0' '7' '7' '7' '7' '5' '5']\n",
      " ['0' '0' '0' '0' '0' '0' '0' '0' '0' '0' '5' '5' '5']\n",
      " ['0' '0' '0' '0' '0' '0' '0' '0' '0' '0' '0' '5' '5']\n",
      " ['0' '0' '0' '0' '0' '0' '0' '0' '0' '0' '0' '5' '5']]\n"
     ]
    }
   ],
   "source": [
    "# For visual comparison of predictions and results change shape of predictions in the form of results\n",
    "predictions=np.reshape(predictions,(size_k,size_k))\n",
    "print(predictions)"
   ]
  },
  {
   "cell_type": "code",
   "execution_count": null,
   "metadata": {
    "collapsed": false
   },
   "outputs": [],
   "source": [
    "sum(predictions==y_test)/len(predictions)"
   ]
  },
  {
   "cell_type": "code",
   "execution_count": null,
   "metadata": {
    "collapsed": false
   },
   "outputs": [],
   "source": [
    "from sklearn.metrics import accuracy_score\n",
    "accuracy_score(y_test,predictions)"
   ]
  },
  {
   "cell_type": "code",
   "execution_count": null,
   "metadata": {
    "collapsed": true
   },
   "outputs": [],
   "source": []
  },
  {
   "cell_type": "code",
   "execution_count": null,
   "metadata": {
    "collapsed": false
   },
   "outputs": [],
   "source": [
    "#Find a way to automatically assign one digit to each prototype that is represented best by it.\n",
    "#data = data[np.logical_or.reduce([labels==x for x in targetdigits]),:]\n",
    "#For each data digit find an average representation of it\n",
    "data_0 = data[np.logical_or.reduce([labels==0]),:]\n",
    "data_1 = data[np.logical_or.reduce([labels==1]),:]\n",
    "data_5 = data[np.logical_or.reduce([labels==5]),:]\n",
    "data_7 = data[np.logical_or.reduce([labels==7]),:]"
   ]
  }
 ],
 "metadata": {
  "anaconda-cloud": {},
  "kernelspec": {
   "display_name": "Python [Root]",
   "language": "python",
   "name": "Python [Root]"
  },
  "language_info": {
   "codemirror_mode": {
    "name": "ipython",
    "version": 3
   },
   "file_extension": ".py",
   "mimetype": "text/x-python",
   "name": "python",
   "nbconvert_exporter": "python",
   "pygments_lexer": "ipython3",
   "version": "3.5.2"
  }
 },
 "nbformat": 4,
 "nbformat_minor": 0
}
